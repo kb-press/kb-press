{
 "cells": [
  {
   "cell_type": "markdown",
   "metadata": {},
   "source": [
    "# KB Press"
   ]
  },
  {
   "cell_type": "code",
   "execution_count": null,
   "metadata": {
    "hide_input": true
   },
   "outputs": [],
   "source": [
    "import glob\n",
    "import os\n",
    "from IPython.display import display, HTML\n",
    "\n",
    "for f in glob.glob('*.ipynb'):\n",
    "    if 'index' in f:\n",
    "        continue\n",
    "    \n",
    "    fname, _ = os.path.splitext(f)\n",
    "    date, name = fname.split('_')\n",
    "    display(HTML('<a href=\"{}\">{}: {}'.format(f, date, name)))"
   ]
  }
 ],
 "metadata": {
  "kernelspec": {
   "display_name": "Python 3",
   "language": "python",
   "name": "python3"
  },
  "language_info": {
   "codemirror_mode": {
    "name": "ipython",
    "version": 3
   },
   "file_extension": ".py",
   "mimetype": "text/x-python",
   "name": "python",
   "nbconvert_exporter": "python",
   "pygments_lexer": "ipython3",
   "version": "3.6.5"
  }
 },
 "nbformat": 4,
 "nbformat_minor": 2
}
